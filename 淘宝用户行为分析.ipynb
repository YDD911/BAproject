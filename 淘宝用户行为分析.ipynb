{
 "cells": [
  {
   "cell_type": "code",
   "execution_count": 103,
   "metadata": {},
   "outputs": [],
   "source": [
    "import pandas as pd\n",
    "import numpy as np\n",
    "import matplotlib.pyplot as plt\n",
    "%matplotlib inline\n",
    "import warnings\n",
    "warnings.filterwarnings('ignore')"
   ]
  },
  {
   "cell_type": "code",
   "execution_count": 104,
   "metadata": {
    "scrolled": true
   },
   "outputs": [
    {
     "data": {
      "text/html": [
       "<div>\n",
       "<style scoped>\n",
       "    .dataframe tbody tr th:only-of-type {\n",
       "        vertical-align: middle;\n",
       "    }\n",
       "\n",
       "    .dataframe tbody tr th {\n",
       "        vertical-align: top;\n",
       "    }\n",
       "\n",
       "    .dataframe thead th {\n",
       "        text-align: right;\n",
       "    }\n",
       "</style>\n",
       "<table border=\"1\" class=\"dataframe\">\n",
       "  <thead>\n",
       "    <tr style=\"text-align: right;\">\n",
       "      <th></th>\n",
       "      <th>User_ID</th>\n",
       "      <th>Item_ID</th>\n",
       "      <th>Category_ID</th>\n",
       "      <th>Behavior_type</th>\n",
       "      <th>Timestamp</th>\n",
       "    </tr>\n",
       "  </thead>\n",
       "  <tbody>\n",
       "    <tr>\n",
       "      <th>0</th>\n",
       "      <td>1</td>\n",
       "      <td>2268318</td>\n",
       "      <td>2520377</td>\n",
       "      <td>pv</td>\n",
       "      <td>1.511544e+09</td>\n",
       "    </tr>\n",
       "  </tbody>\n",
       "</table>\n",
       "</div>"
      ],
      "text/plain": [
       "   User_ID  Item_ID  Category_ID Behavior_type     Timestamp\n",
       "0        1  2268318      2520377            pv  1.511544e+09"
      ]
     },
     "execution_count": 104,
     "metadata": {},
     "output_type": "execute_result"
    }
   ],
   "source": [
    "UserBeh = pd.read_csv(r'D:\\jupyterfile\\项目\\UserBehavior.csv',names=['User_ID','Item_ID','Category_ID','Behavior_type','Timestamp'])\n",
    "UserBeh.head(1)"
   ]
  },
  {
   "cell_type": "code",
   "execution_count": 105,
   "metadata": {},
   "outputs": [],
   "source": [
    "# 解决timestamp数据过长会显示为科学计数的问题\n",
    "import csv\n",
    "\n",
    "csvFile = open(r'D:\\jupyterfile\\项目\\UserBehavior.csv','r')\n",
    "reader = csv.reader(csvFile)\n",
    " \n",
    "ls = []\n",
    "for item in reader:\n",
    "    ls.append(item) \n",
    "csvFile.close()\n",
    "# ls[1:] 是数据项， ls[0] 是columns\n",
    "UserBeh = pd.DataFrame(data=ls[1:], columns=['User_ID','Item_ID','Category_ID','Behavior_type','Timestamp'])"
   ]
  },
  {
   "cell_type": "code",
   "execution_count": 106,
   "metadata": {},
   "outputs": [
    {
     "data": {
      "text/html": [
       "<div>\n",
       "<style scoped>\n",
       "    .dataframe tbody tr th:only-of-type {\n",
       "        vertical-align: middle;\n",
       "    }\n",
       "\n",
       "    .dataframe tbody tr th {\n",
       "        vertical-align: top;\n",
       "    }\n",
       "\n",
       "    .dataframe thead th {\n",
       "        text-align: right;\n",
       "    }\n",
       "</style>\n",
       "<table border=\"1\" class=\"dataframe\">\n",
       "  <thead>\n",
       "    <tr style=\"text-align: right;\">\n",
       "      <th></th>\n",
       "      <th>User_ID</th>\n",
       "      <th>Item_ID</th>\n",
       "      <th>Category_ID</th>\n",
       "      <th>Behavior_type</th>\n",
       "      <th>Timestamp</th>\n",
       "    </tr>\n",
       "  </thead>\n",
       "  <tbody>\n",
       "    <tr>\n",
       "      <th>0</th>\n",
       "      <td>1</td>\n",
       "      <td>2333346</td>\n",
       "      <td>2520771</td>\n",
       "      <td>pv</td>\n",
       "      <td>1511561733</td>\n",
       "    </tr>\n",
       "  </tbody>\n",
       "</table>\n",
       "</div>"
      ],
      "text/plain": [
       "  User_ID  Item_ID Category_ID Behavior_type   Timestamp\n",
       "0       1  2333346     2520771            pv  1511561733"
      ]
     },
     "execution_count": 106,
     "metadata": {},
     "output_type": "execute_result"
    }
   ],
   "source": [
    "UserBeh.head(1)"
   ]
  },
  {
   "cell_type": "markdown",
   "metadata": {},
   "source": [
    "### 数据清洗"
   ]
  },
  {
   "cell_type": "markdown",
   "metadata": {},
   "source": [
    "1.处理空值"
   ]
  },
  {
   "cell_type": "code",
   "execution_count": 107,
   "metadata": {},
   "outputs": [
    {
     "name": "stdout",
     "output_type": "stream",
     "text": [
      "<class 'pandas.core.frame.DataFrame'>\n",
      "RangeIndex: 3835330 entries, 0 to 3835329\n",
      "Data columns (total 5 columns):\n",
      "User_ID          object\n",
      "Item_ID          object\n",
      "Category_ID      object\n",
      "Behavior_type    object\n",
      "Timestamp        object\n",
      "dtypes: object(5)\n",
      "memory usage: 146.3+ MB\n"
     ]
    }
   ],
   "source": [
    "UserBeh.info()"
   ]
  },
  {
   "cell_type": "code",
   "execution_count": 108,
   "metadata": {},
   "outputs": [
    {
     "data": {
      "text/plain": [
       "User_ID          0\n",
       "Item_ID          0\n",
       "Category_ID      0\n",
       "Behavior_type    0\n",
       "Timestamp        1\n",
       "dtype: int64"
      ]
     },
     "execution_count": 108,
     "metadata": {},
     "output_type": "execute_result"
    }
   ],
   "source": [
    "UserBeh.isnull().sum() "
   ]
  },
  {
   "cell_type": "code",
   "execution_count": 109,
   "metadata": {},
   "outputs": [
    {
     "data": {
      "text/html": [
       "<div>\n",
       "<style scoped>\n",
       "    .dataframe tbody tr th:only-of-type {\n",
       "        vertical-align: middle;\n",
       "    }\n",
       "\n",
       "    .dataframe tbody tr th {\n",
       "        vertical-align: top;\n",
       "    }\n",
       "\n",
       "    .dataframe thead th {\n",
       "        text-align: right;\n",
       "    }\n",
       "</style>\n",
       "<table border=\"1\" class=\"dataframe\">\n",
       "  <thead>\n",
       "    <tr style=\"text-align: right;\">\n",
       "      <th></th>\n",
       "      <th>User_ID</th>\n",
       "      <th>Item_ID</th>\n",
       "      <th>Category_ID</th>\n",
       "      <th>Behavior_type</th>\n",
       "      <th>Timestamp</th>\n",
       "    </tr>\n",
       "  </thead>\n",
       "  <tbody>\n",
       "    <tr>\n",
       "      <th>3835329</th>\n",
       "      <td>255896</td>\n",
       "      <td>4252254</td>\n",
       "      <td>874415</td>\n",
       "      <td>p</td>\n",
       "      <td>None</td>\n",
       "    </tr>\n",
       "  </tbody>\n",
       "</table>\n",
       "</div>"
      ],
      "text/plain": [
       "        User_ID  Item_ID Category_ID Behavior_type Timestamp\n",
       "3835329  255896  4252254      874415             p      None"
      ]
     },
     "execution_count": 109,
     "metadata": {},
     "output_type": "execute_result"
    }
   ],
   "source": [
    "UserBeh[UserBeh['Timestamp'].isnull()]"
   ]
  },
  {
   "cell_type": "code",
   "execution_count": 110,
   "metadata": {},
   "outputs": [],
   "source": [
    "# timestamp只有一个空值,相比我们有383w的数据量，因此这里可以直接将其删除\n",
    "UserBeh = UserBeh.dropna(axis=0, how='any')"
   ]
  },
  {
   "cell_type": "code",
   "execution_count": 111,
   "metadata": {},
   "outputs": [
    {
     "data": {
      "text/plain": [
       "User_ID          0\n",
       "Item_ID          0\n",
       "Category_ID      0\n",
       "Behavior_type    0\n",
       "Timestamp        0\n",
       "dtype: int64"
      ]
     },
     "execution_count": 111,
     "metadata": {},
     "output_type": "execute_result"
    }
   ],
   "source": [
    "UserBeh.isnull().sum() "
   ]
  },
  {
   "cell_type": "markdown",
   "metadata": {},
   "source": [
    "2.处理重复值(如果存在)"
   ]
  },
  {
   "cell_type": "code",
   "execution_count": 112,
   "metadata": {},
   "outputs": [],
   "source": [
    "UserBeh = UserBeh.drop_duplicates()"
   ]
  },
  {
   "cell_type": "code",
   "execution_count": 113,
   "metadata": {},
   "outputs": [
    {
     "name": "stdout",
     "output_type": "stream",
     "text": [
      "<class 'pandas.core.frame.DataFrame'>\n",
      "Int64Index: 3835327 entries, 0 to 3835328\n",
      "Data columns (total 5 columns):\n",
      "User_ID          object\n",
      "Item_ID          object\n",
      "Category_ID      object\n",
      "Behavior_type    object\n",
      "Timestamp        object\n",
      "dtypes: object(5)\n",
      "memory usage: 175.6+ MB\n"
     ]
    }
   ],
   "source": [
    "UserBeh.info()"
   ]
  },
  {
   "cell_type": "markdown",
   "metadata": {},
   "source": [
    "3.一致化处理：将时间戳转换成datetime"
   ]
  },
  {
   "cell_type": "code",
   "execution_count": 114,
   "metadata": {},
   "outputs": [],
   "source": [
    "import datetime           \n",
    "UserBeh['datetime']=pd.to_datetime(UserBeh['Timestamp'],unit='s')+datetime.timedelta(hours=8)"
   ]
  },
  {
   "cell_type": "code",
   "execution_count": 115,
   "metadata": {},
   "outputs": [],
   "source": [
    "UserBeh=UserBeh.drop(columns='Timestamp')"
   ]
  },
  {
   "cell_type": "code",
   "execution_count": 116,
   "metadata": {},
   "outputs": [
    {
     "data": {
      "text/html": [
       "<div>\n",
       "<style scoped>\n",
       "    .dataframe tbody tr th:only-of-type {\n",
       "        vertical-align: middle;\n",
       "    }\n",
       "\n",
       "    .dataframe tbody tr th {\n",
       "        vertical-align: top;\n",
       "    }\n",
       "\n",
       "    .dataframe thead th {\n",
       "        text-align: right;\n",
       "    }\n",
       "</style>\n",
       "<table border=\"1\" class=\"dataframe\">\n",
       "  <thead>\n",
       "    <tr style=\"text-align: right;\">\n",
       "      <th></th>\n",
       "      <th>User_ID</th>\n",
       "      <th>Item_ID</th>\n",
       "      <th>Category_ID</th>\n",
       "      <th>Behavior_type</th>\n",
       "      <th>datetime</th>\n",
       "    </tr>\n",
       "  </thead>\n",
       "  <tbody>\n",
       "    <tr>\n",
       "      <th>3835324</th>\n",
       "      <td>255896</td>\n",
       "      <td>3844843</td>\n",
       "      <td>58498</td>\n",
       "      <td>pv</td>\n",
       "      <td>2017-12-01 14:50:00</td>\n",
       "    </tr>\n",
       "    <tr>\n",
       "      <th>3835325</th>\n",
       "      <td>255896</td>\n",
       "      <td>5081283</td>\n",
       "      <td>4640311</td>\n",
       "      <td>pv</td>\n",
       "      <td>2017-12-01 14:50:13</td>\n",
       "    </tr>\n",
       "    <tr>\n",
       "      <th>3835326</th>\n",
       "      <td>255896</td>\n",
       "      <td>2479617</td>\n",
       "      <td>2913673</td>\n",
       "      <td>pv</td>\n",
       "      <td>2017-12-01 14:50:24</td>\n",
       "    </tr>\n",
       "    <tr>\n",
       "      <th>3835327</th>\n",
       "      <td>255896</td>\n",
       "      <td>2668495</td>\n",
       "      <td>58498</td>\n",
       "      <td>pv</td>\n",
       "      <td>2017-12-01 14:50:31</td>\n",
       "    </tr>\n",
       "    <tr>\n",
       "      <th>3835328</th>\n",
       "      <td>255896</td>\n",
       "      <td>1688787</td>\n",
       "      <td>4640311</td>\n",
       "      <td>pv</td>\n",
       "      <td>2017-12-01 14:50:40</td>\n",
       "    </tr>\n",
       "  </tbody>\n",
       "</table>\n",
       "</div>"
      ],
      "text/plain": [
       "        User_ID  Item_ID Category_ID Behavior_type            datetime\n",
       "3835324  255896  3844843       58498            pv 2017-12-01 14:50:00\n",
       "3835325  255896  5081283     4640311            pv 2017-12-01 14:50:13\n",
       "3835326  255896  2479617     2913673            pv 2017-12-01 14:50:24\n",
       "3835327  255896  2668495       58498            pv 2017-12-01 14:50:31\n",
       "3835328  255896  1688787     4640311            pv 2017-12-01 14:50:40"
      ]
     },
     "execution_count": 116,
     "metadata": {},
     "output_type": "execute_result"
    }
   ],
   "source": [
    "UserBeh.tail()"
   ]
  },
  {
   "cell_type": "markdown",
   "metadata": {},
   "source": [
    "4.为了后续分析对datetime进行进一步的切分"
   ]
  },
  {
   "cell_type": "code",
   "execution_count": 117,
   "metadata": {},
   "outputs": [],
   "source": [
    "UserBeh['Year'] = UserBeh['datetime'].dt.year\n",
    "UserBeh['Month'] = UserBeh['datetime'].dt.month\n",
    "UserBeh['Day'] = UserBeh['datetime'].dt.day"
   ]
  },
  {
   "cell_type": "code",
   "execution_count": 118,
   "metadata": {},
   "outputs": [],
   "source": [
    "#根据时间划分为凌晨，上午，中午，下午，傍晚，晚上六个时间段\n",
    "# 凌晨 0-6，上午6-11，中午11-13，下午13-16，傍晚16-18，晚上18-24\n",
    "UserBeh['Time'] = UserBeh['datetime'].dt.hour\n",
    "UserBeh['时间段']= pd.cut(UserBeh['Time'],bins =[0,6,11,13,16,18,24],labels = \n",
    "                       ['凌晨(00:00-06:00)','上午(06:00-11:00)','中午(11:00-13:00)','下午(13:00-16:00)',\\\n",
    "                        '傍晚(16:00-18:00)','晚上(18:00-24:00)'],right = False).astype(str)"
   ]
  },
  {
   "cell_type": "code",
   "execution_count": 119,
   "metadata": {},
   "outputs": [],
   "source": [
    "#划分星期几\n",
    "from datetime import datetime\n",
    "UserBeh['Date'] = pd.to_datetime(UserBeh['datetime'].dt.date,format='%Y-%m-%d')\n",
    "\n",
    "weekday=[]\n",
    "for i in UserBeh['Date']:\n",
    "       weekday.append(i.weekday()+1)\n",
    "        \n",
    "df2 = pd.DataFrame(weekday,columns=['Weekday'])"
   ]
  },
  {
   "cell_type": "code",
   "execution_count": 120,
   "metadata": {
    "scrolled": false
   },
   "outputs": [],
   "source": [
    "#横向堆叠起来\n",
    "userb = pd.concat([UserBeh,df2],axis=1,join='inner')"
   ]
  },
  {
   "cell_type": "markdown",
   "metadata": {},
   "source": [
    "5.删除异常值"
   ]
  },
  {
   "cell_type": "code",
   "execution_count": 121,
   "metadata": {},
   "outputs": [
    {
     "data": {
      "text/plain": [
       "2017    3835306\n",
       "2018         16\n",
       "2037          1\n",
       "2015          1\n",
       "1970          1\n",
       "Name: Year, dtype: int64"
      ]
     },
     "execution_count": 121,
     "metadata": {},
     "output_type": "execute_result"
    }
   ],
   "source": [
    "userb['Year'].value_counts()"
   ]
  },
  {
   "cell_type": "code",
   "execution_count": 122,
   "metadata": {},
   "outputs": [],
   "source": [
    "# 仅保留2017年数据\n",
    "userb['Year']= userb['Year'][userb['Year'].isin(['2017'])]\n",
    "userb = userb.dropna(axis=0, how='any')"
   ]
  },
  {
   "cell_type": "markdown",
   "metadata": {},
   "source": [
    "6.以天为维度观察数据"
   ]
  },
  {
   "cell_type": "code",
   "execution_count": 123,
   "metadata": {},
   "outputs": [
    {
     "data": {
      "text/html": [
       "<div>\n",
       "<style scoped>\n",
       "    .dataframe tbody tr th:only-of-type {\n",
       "        vertical-align: middle;\n",
       "    }\n",
       "\n",
       "    .dataframe tbody tr th {\n",
       "        vertical-align: top;\n",
       "    }\n",
       "\n",
       "    .dataframe thead th {\n",
       "        text-align: right;\n",
       "    }\n",
       "</style>\n",
       "<table border=\"1\" class=\"dataframe\">\n",
       "  <thead>\n",
       "    <tr style=\"text-align: right;\">\n",
       "      <th></th>\n",
       "      <th>User_ID</th>\n",
       "      <th>Item_ID</th>\n",
       "      <th>Category_ID</th>\n",
       "      <th>Behavior_type</th>\n",
       "      <th>datetime</th>\n",
       "      <th>Year</th>\n",
       "      <th>Month</th>\n",
       "      <th>Day</th>\n",
       "      <th>Time</th>\n",
       "      <th>时间段</th>\n",
       "      <th>Weekday</th>\n",
       "    </tr>\n",
       "    <tr>\n",
       "      <th>Date</th>\n",
       "      <th></th>\n",
       "      <th></th>\n",
       "      <th></th>\n",
       "      <th></th>\n",
       "      <th></th>\n",
       "      <th></th>\n",
       "      <th></th>\n",
       "      <th></th>\n",
       "      <th></th>\n",
       "      <th></th>\n",
       "      <th></th>\n",
       "    </tr>\n",
       "  </thead>\n",
       "  <tbody>\n",
       "    <tr>\n",
       "      <th>2017-07-03</th>\n",
       "      <td>2</td>\n",
       "      <td>2</td>\n",
       "      <td>2</td>\n",
       "      <td>2</td>\n",
       "      <td>2</td>\n",
       "      <td>2</td>\n",
       "      <td>2</td>\n",
       "      <td>2</td>\n",
       "      <td>2</td>\n",
       "      <td>2</td>\n",
       "      <td>2</td>\n",
       "    </tr>\n",
       "    <tr>\n",
       "      <th>2017-09-11</th>\n",
       "      <td>1</td>\n",
       "      <td>1</td>\n",
       "      <td>1</td>\n",
       "      <td>1</td>\n",
       "      <td>1</td>\n",
       "      <td>1</td>\n",
       "      <td>1</td>\n",
       "      <td>1</td>\n",
       "      <td>1</td>\n",
       "      <td>1</td>\n",
       "      <td>1</td>\n",
       "    </tr>\n",
       "    <tr>\n",
       "      <th>2017-09-16</th>\n",
       "      <td>2</td>\n",
       "      <td>2</td>\n",
       "      <td>2</td>\n",
       "      <td>2</td>\n",
       "      <td>2</td>\n",
       "      <td>2</td>\n",
       "      <td>2</td>\n",
       "      <td>2</td>\n",
       "      <td>2</td>\n",
       "      <td>2</td>\n",
       "      <td>2</td>\n",
       "    </tr>\n",
       "    <tr>\n",
       "      <th>2017-10-10</th>\n",
       "      <td>1</td>\n",
       "      <td>1</td>\n",
       "      <td>1</td>\n",
       "      <td>1</td>\n",
       "      <td>1</td>\n",
       "      <td>1</td>\n",
       "      <td>1</td>\n",
       "      <td>1</td>\n",
       "      <td>1</td>\n",
       "      <td>1</td>\n",
       "      <td>1</td>\n",
       "    </tr>\n",
       "    <tr>\n",
       "      <th>2017-10-31</th>\n",
       "      <td>1</td>\n",
       "      <td>1</td>\n",
       "      <td>1</td>\n",
       "      <td>1</td>\n",
       "      <td>1</td>\n",
       "      <td>1</td>\n",
       "      <td>1</td>\n",
       "      <td>1</td>\n",
       "      <td>1</td>\n",
       "      <td>1</td>\n",
       "      <td>1</td>\n",
       "    </tr>\n",
       "    <tr>\n",
       "      <th>2017-11-02</th>\n",
       "      <td>1</td>\n",
       "      <td>1</td>\n",
       "      <td>1</td>\n",
       "      <td>1</td>\n",
       "      <td>1</td>\n",
       "      <td>1</td>\n",
       "      <td>1</td>\n",
       "      <td>1</td>\n",
       "      <td>1</td>\n",
       "      <td>1</td>\n",
       "      <td>1</td>\n",
       "    </tr>\n",
       "    <tr>\n",
       "      <th>2017-11-03</th>\n",
       "      <td>14</td>\n",
       "      <td>14</td>\n",
       "      <td>14</td>\n",
       "      <td>14</td>\n",
       "      <td>14</td>\n",
       "      <td>14</td>\n",
       "      <td>14</td>\n",
       "      <td>14</td>\n",
       "      <td>14</td>\n",
       "      <td>14</td>\n",
       "      <td>14</td>\n",
       "    </tr>\n",
       "    <tr>\n",
       "      <th>2017-11-04</th>\n",
       "      <td>1</td>\n",
       "      <td>1</td>\n",
       "      <td>1</td>\n",
       "      <td>1</td>\n",
       "      <td>1</td>\n",
       "      <td>1</td>\n",
       "      <td>1</td>\n",
       "      <td>1</td>\n",
       "      <td>1</td>\n",
       "      <td>1</td>\n",
       "      <td>1</td>\n",
       "    </tr>\n",
       "    <tr>\n",
       "      <th>2017-11-05</th>\n",
       "      <td>1</td>\n",
       "      <td>1</td>\n",
       "      <td>1</td>\n",
       "      <td>1</td>\n",
       "      <td>1</td>\n",
       "      <td>1</td>\n",
       "      <td>1</td>\n",
       "      <td>1</td>\n",
       "      <td>1</td>\n",
       "      <td>1</td>\n",
       "      <td>1</td>\n",
       "    </tr>\n",
       "    <tr>\n",
       "      <th>2017-11-06</th>\n",
       "      <td>1</td>\n",
       "      <td>1</td>\n",
       "      <td>1</td>\n",
       "      <td>1</td>\n",
       "      <td>1</td>\n",
       "      <td>1</td>\n",
       "      <td>1</td>\n",
       "      <td>1</td>\n",
       "      <td>1</td>\n",
       "      <td>1</td>\n",
       "      <td>1</td>\n",
       "    </tr>\n",
       "    <tr>\n",
       "      <th>2017-11-10</th>\n",
       "      <td>2</td>\n",
       "      <td>2</td>\n",
       "      <td>2</td>\n",
       "      <td>2</td>\n",
       "      <td>2</td>\n",
       "      <td>2</td>\n",
       "      <td>2</td>\n",
       "      <td>2</td>\n",
       "      <td>2</td>\n",
       "      <td>2</td>\n",
       "      <td>2</td>\n",
       "    </tr>\n",
       "    <tr>\n",
       "      <th>2017-11-11</th>\n",
       "      <td>5</td>\n",
       "      <td>5</td>\n",
       "      <td>5</td>\n",
       "      <td>5</td>\n",
       "      <td>5</td>\n",
       "      <td>5</td>\n",
       "      <td>5</td>\n",
       "      <td>5</td>\n",
       "      <td>5</td>\n",
       "      <td>5</td>\n",
       "      <td>5</td>\n",
       "    </tr>\n",
       "    <tr>\n",
       "      <th>2017-11-12</th>\n",
       "      <td>2</td>\n",
       "      <td>2</td>\n",
       "      <td>2</td>\n",
       "      <td>2</td>\n",
       "      <td>2</td>\n",
       "      <td>2</td>\n",
       "      <td>2</td>\n",
       "      <td>2</td>\n",
       "      <td>2</td>\n",
       "      <td>2</td>\n",
       "      <td>2</td>\n",
       "    </tr>\n",
       "    <tr>\n",
       "      <th>2017-11-13</th>\n",
       "      <td>6</td>\n",
       "      <td>6</td>\n",
       "      <td>6</td>\n",
       "      <td>6</td>\n",
       "      <td>6</td>\n",
       "      <td>6</td>\n",
       "      <td>6</td>\n",
       "      <td>6</td>\n",
       "      <td>6</td>\n",
       "      <td>6</td>\n",
       "      <td>6</td>\n",
       "    </tr>\n",
       "    <tr>\n",
       "      <th>2017-11-14</th>\n",
       "      <td>6</td>\n",
       "      <td>6</td>\n",
       "      <td>6</td>\n",
       "      <td>6</td>\n",
       "      <td>6</td>\n",
       "      <td>6</td>\n",
       "      <td>6</td>\n",
       "      <td>6</td>\n",
       "      <td>6</td>\n",
       "      <td>6</td>\n",
       "      <td>6</td>\n",
       "    </tr>\n",
       "    <tr>\n",
       "      <th>2017-11-15</th>\n",
       "      <td>4</td>\n",
       "      <td>4</td>\n",
       "      <td>4</td>\n",
       "      <td>4</td>\n",
       "      <td>4</td>\n",
       "      <td>4</td>\n",
       "      <td>4</td>\n",
       "      <td>4</td>\n",
       "      <td>4</td>\n",
       "      <td>4</td>\n",
       "      <td>4</td>\n",
       "    </tr>\n",
       "    <tr>\n",
       "      <th>2017-11-16</th>\n",
       "      <td>10</td>\n",
       "      <td>10</td>\n",
       "      <td>10</td>\n",
       "      <td>10</td>\n",
       "      <td>10</td>\n",
       "      <td>10</td>\n",
       "      <td>10</td>\n",
       "      <td>10</td>\n",
       "      <td>10</td>\n",
       "      <td>10</td>\n",
       "      <td>10</td>\n",
       "    </tr>\n",
       "    <tr>\n",
       "      <th>2017-11-17</th>\n",
       "      <td>18</td>\n",
       "      <td>18</td>\n",
       "      <td>18</td>\n",
       "      <td>18</td>\n",
       "      <td>18</td>\n",
       "      <td>18</td>\n",
       "      <td>18</td>\n",
       "      <td>18</td>\n",
       "      <td>18</td>\n",
       "      <td>18</td>\n",
       "      <td>18</td>\n",
       "    </tr>\n",
       "    <tr>\n",
       "      <th>2017-11-18</th>\n",
       "      <td>19</td>\n",
       "      <td>19</td>\n",
       "      <td>19</td>\n",
       "      <td>19</td>\n",
       "      <td>19</td>\n",
       "      <td>19</td>\n",
       "      <td>19</td>\n",
       "      <td>19</td>\n",
       "      <td>19</td>\n",
       "      <td>19</td>\n",
       "      <td>19</td>\n",
       "    </tr>\n",
       "    <tr>\n",
       "      <th>2017-11-19</th>\n",
       "      <td>33</td>\n",
       "      <td>33</td>\n",
       "      <td>33</td>\n",
       "      <td>33</td>\n",
       "      <td>33</td>\n",
       "      <td>33</td>\n",
       "      <td>33</td>\n",
       "      <td>33</td>\n",
       "      <td>33</td>\n",
       "      <td>33</td>\n",
       "      <td>33</td>\n",
       "    </tr>\n",
       "    <tr>\n",
       "      <th>2017-11-20</th>\n",
       "      <td>20</td>\n",
       "      <td>20</td>\n",
       "      <td>20</td>\n",
       "      <td>20</td>\n",
       "      <td>20</td>\n",
       "      <td>20</td>\n",
       "      <td>20</td>\n",
       "      <td>20</td>\n",
       "      <td>20</td>\n",
       "      <td>20</td>\n",
       "      <td>20</td>\n",
       "    </tr>\n",
       "    <tr>\n",
       "      <th>2017-11-21</th>\n",
       "      <td>25</td>\n",
       "      <td>25</td>\n",
       "      <td>25</td>\n",
       "      <td>25</td>\n",
       "      <td>25</td>\n",
       "      <td>25</td>\n",
       "      <td>25</td>\n",
       "      <td>25</td>\n",
       "      <td>25</td>\n",
       "      <td>25</td>\n",
       "      <td>25</td>\n",
       "    </tr>\n",
       "    <tr>\n",
       "      <th>2017-11-22</th>\n",
       "      <td>53</td>\n",
       "      <td>53</td>\n",
       "      <td>53</td>\n",
       "      <td>53</td>\n",
       "      <td>53</td>\n",
       "      <td>53</td>\n",
       "      <td>53</td>\n",
       "      <td>53</td>\n",
       "      <td>53</td>\n",
       "      <td>53</td>\n",
       "      <td>53</td>\n",
       "    </tr>\n",
       "    <tr>\n",
       "      <th>2017-11-23</th>\n",
       "      <td>181</td>\n",
       "      <td>181</td>\n",
       "      <td>181</td>\n",
       "      <td>181</td>\n",
       "      <td>181</td>\n",
       "      <td>181</td>\n",
       "      <td>181</td>\n",
       "      <td>181</td>\n",
       "      <td>181</td>\n",
       "      <td>181</td>\n",
       "      <td>181</td>\n",
       "    </tr>\n",
       "    <tr>\n",
       "      <th>2017-11-24</th>\n",
       "      <td>1507</td>\n",
       "      <td>1507</td>\n",
       "      <td>1507</td>\n",
       "      <td>1507</td>\n",
       "      <td>1507</td>\n",
       "      <td>1507</td>\n",
       "      <td>1507</td>\n",
       "      <td>1507</td>\n",
       "      <td>1507</td>\n",
       "      <td>1507</td>\n",
       "      <td>1507</td>\n",
       "    </tr>\n",
       "    <tr>\n",
       "      <th>2017-11-25</th>\n",
       "      <td>395033</td>\n",
       "      <td>395033</td>\n",
       "      <td>395033</td>\n",
       "      <td>395033</td>\n",
       "      <td>395033</td>\n",
       "      <td>395033</td>\n",
       "      <td>395033</td>\n",
       "      <td>395033</td>\n",
       "      <td>395033</td>\n",
       "      <td>395033</td>\n",
       "      <td>395033</td>\n",
       "    </tr>\n",
       "    <tr>\n",
       "      <th>2017-11-26</th>\n",
       "      <td>406792</td>\n",
       "      <td>406792</td>\n",
       "      <td>406792</td>\n",
       "      <td>406792</td>\n",
       "      <td>406792</td>\n",
       "      <td>406792</td>\n",
       "      <td>406792</td>\n",
       "      <td>406792</td>\n",
       "      <td>406792</td>\n",
       "      <td>406792</td>\n",
       "      <td>406792</td>\n",
       "    </tr>\n",
       "    <tr>\n",
       "      <th>2017-11-27</th>\n",
       "      <td>382304</td>\n",
       "      <td>382304</td>\n",
       "      <td>382304</td>\n",
       "      <td>382304</td>\n",
       "      <td>382304</td>\n",
       "      <td>382304</td>\n",
       "      <td>382304</td>\n",
       "      <td>382304</td>\n",
       "      <td>382304</td>\n",
       "      <td>382304</td>\n",
       "      <td>382304</td>\n",
       "    </tr>\n",
       "    <tr>\n",
       "      <th>2017-11-28</th>\n",
       "      <td>378326</td>\n",
       "      <td>378326</td>\n",
       "      <td>378326</td>\n",
       "      <td>378326</td>\n",
       "      <td>378326</td>\n",
       "      <td>378326</td>\n",
       "      <td>378326</td>\n",
       "      <td>378326</td>\n",
       "      <td>378326</td>\n",
       "      <td>378326</td>\n",
       "      <td>378326</td>\n",
       "    </tr>\n",
       "    <tr>\n",
       "      <th>2017-11-29</th>\n",
       "      <td>390884</td>\n",
       "      <td>390884</td>\n",
       "      <td>390884</td>\n",
       "      <td>390884</td>\n",
       "      <td>390884</td>\n",
       "      <td>390884</td>\n",
       "      <td>390884</td>\n",
       "      <td>390884</td>\n",
       "      <td>390884</td>\n",
       "      <td>390884</td>\n",
       "      <td>390884</td>\n",
       "    </tr>\n",
       "    <tr>\n",
       "      <th>2017-11-30</th>\n",
       "      <td>400366</td>\n",
       "      <td>400366</td>\n",
       "      <td>400366</td>\n",
       "      <td>400366</td>\n",
       "      <td>400366</td>\n",
       "      <td>400366</td>\n",
       "      <td>400366</td>\n",
       "      <td>400366</td>\n",
       "      <td>400366</td>\n",
       "      <td>400366</td>\n",
       "      <td>400366</td>\n",
       "    </tr>\n",
       "    <tr>\n",
       "      <th>2017-12-01</th>\n",
       "      <td>417974</td>\n",
       "      <td>417974</td>\n",
       "      <td>417974</td>\n",
       "      <td>417974</td>\n",
       "      <td>417974</td>\n",
       "      <td>417974</td>\n",
       "      <td>417974</td>\n",
       "      <td>417974</td>\n",
       "      <td>417974</td>\n",
       "      <td>417974</td>\n",
       "      <td>417974</td>\n",
       "    </tr>\n",
       "    <tr>\n",
       "      <th>2017-12-02</th>\n",
       "      <td>532774</td>\n",
       "      <td>532774</td>\n",
       "      <td>532774</td>\n",
       "      <td>532774</td>\n",
       "      <td>532774</td>\n",
       "      <td>532774</td>\n",
       "      <td>532774</td>\n",
       "      <td>532774</td>\n",
       "      <td>532774</td>\n",
       "      <td>532774</td>\n",
       "      <td>532774</td>\n",
       "    </tr>\n",
       "    <tr>\n",
       "      <th>2017-12-03</th>\n",
       "      <td>528928</td>\n",
       "      <td>528928</td>\n",
       "      <td>528928</td>\n",
       "      <td>528928</td>\n",
       "      <td>528928</td>\n",
       "      <td>528928</td>\n",
       "      <td>528928</td>\n",
       "      <td>528928</td>\n",
       "      <td>528928</td>\n",
       "      <td>528928</td>\n",
       "      <td>528928</td>\n",
       "    </tr>\n",
       "    <tr>\n",
       "      <th>2017-12-04</th>\n",
       "      <td>6</td>\n",
       "      <td>6</td>\n",
       "      <td>6</td>\n",
       "      <td>6</td>\n",
       "      <td>6</td>\n",
       "      <td>6</td>\n",
       "      <td>6</td>\n",
       "      <td>6</td>\n",
       "      <td>6</td>\n",
       "      <td>6</td>\n",
       "      <td>6</td>\n",
       "    </tr>\n",
       "    <tr>\n",
       "      <th>2017-12-06</th>\n",
       "      <td>3</td>\n",
       "      <td>3</td>\n",
       "      <td>3</td>\n",
       "      <td>3</td>\n",
       "      <td>3</td>\n",
       "      <td>3</td>\n",
       "      <td>3</td>\n",
       "      <td>3</td>\n",
       "      <td>3</td>\n",
       "      <td>3</td>\n",
       "      <td>3</td>\n",
       "    </tr>\n",
       "  </tbody>\n",
       "</table>\n",
       "</div>"
      ],
      "text/plain": [
       "            User_ID  Item_ID  Category_ID  Behavior_type  datetime    Year  \\\n",
       "Date                                                                         \n",
       "2017-07-03        2        2            2              2         2       2   \n",
       "2017-09-11        1        1            1              1         1       1   \n",
       "2017-09-16        2        2            2              2         2       2   \n",
       "2017-10-10        1        1            1              1         1       1   \n",
       "2017-10-31        1        1            1              1         1       1   \n",
       "2017-11-02        1        1            1              1         1       1   \n",
       "2017-11-03       14       14           14             14        14      14   \n",
       "2017-11-04        1        1            1              1         1       1   \n",
       "2017-11-05        1        1            1              1         1       1   \n",
       "2017-11-06        1        1            1              1         1       1   \n",
       "2017-11-10        2        2            2              2         2       2   \n",
       "2017-11-11        5        5            5              5         5       5   \n",
       "2017-11-12        2        2            2              2         2       2   \n",
       "2017-11-13        6        6            6              6         6       6   \n",
       "2017-11-14        6        6            6              6         6       6   \n",
       "2017-11-15        4        4            4              4         4       4   \n",
       "2017-11-16       10       10           10             10        10      10   \n",
       "2017-11-17       18       18           18             18        18      18   \n",
       "2017-11-18       19       19           19             19        19      19   \n",
       "2017-11-19       33       33           33             33        33      33   \n",
       "2017-11-20       20       20           20             20        20      20   \n",
       "2017-11-21       25       25           25             25        25      25   \n",
       "2017-11-22       53       53           53             53        53      53   \n",
       "2017-11-23      181      181          181            181       181     181   \n",
       "2017-11-24     1507     1507         1507           1507      1507    1507   \n",
       "2017-11-25   395033   395033       395033         395033    395033  395033   \n",
       "2017-11-26   406792   406792       406792         406792    406792  406792   \n",
       "2017-11-27   382304   382304       382304         382304    382304  382304   \n",
       "2017-11-28   378326   378326       378326         378326    378326  378326   \n",
       "2017-11-29   390884   390884       390884         390884    390884  390884   \n",
       "2017-11-30   400366   400366       400366         400366    400366  400366   \n",
       "2017-12-01   417974   417974       417974         417974    417974  417974   \n",
       "2017-12-02   532774   532774       532774         532774    532774  532774   \n",
       "2017-12-03   528928   528928       528928         528928    528928  528928   \n",
       "2017-12-04        6        6            6              6         6       6   \n",
       "2017-12-06        3        3            3              3         3       3   \n",
       "\n",
       "             Month     Day    Time     时间段  Weekday  \n",
       "Date                                                 \n",
       "2017-07-03       2       2       2       2        2  \n",
       "2017-09-11       1       1       1       1        1  \n",
       "2017-09-16       2       2       2       2        2  \n",
       "2017-10-10       1       1       1       1        1  \n",
       "2017-10-31       1       1       1       1        1  \n",
       "2017-11-02       1       1       1       1        1  \n",
       "2017-11-03      14      14      14      14       14  \n",
       "2017-11-04       1       1       1       1        1  \n",
       "2017-11-05       1       1       1       1        1  \n",
       "2017-11-06       1       1       1       1        1  \n",
       "2017-11-10       2       2       2       2        2  \n",
       "2017-11-11       5       5       5       5        5  \n",
       "2017-11-12       2       2       2       2        2  \n",
       "2017-11-13       6       6       6       6        6  \n",
       "2017-11-14       6       6       6       6        6  \n",
       "2017-11-15       4       4       4       4        4  \n",
       "2017-11-16      10      10      10      10       10  \n",
       "2017-11-17      18      18      18      18       18  \n",
       "2017-11-18      19      19      19      19       19  \n",
       "2017-11-19      33      33      33      33       33  \n",
       "2017-11-20      20      20      20      20       20  \n",
       "2017-11-21      25      25      25      25       25  \n",
       "2017-11-22      53      53      53      53       53  \n",
       "2017-11-23     181     181     181     181      181  \n",
       "2017-11-24    1507    1507    1507    1507     1507  \n",
       "2017-11-25  395033  395033  395033  395033   395033  \n",
       "2017-11-26  406792  406792  406792  406792   406792  \n",
       "2017-11-27  382304  382304  382304  382304   382304  \n",
       "2017-11-28  378326  378326  378326  378326   378326  \n",
       "2017-11-29  390884  390884  390884  390884   390884  \n",
       "2017-11-30  400366  400366  400366  400366   400366  \n",
       "2017-12-01  417974  417974  417974  417974   417974  \n",
       "2017-12-02  532774  532774  532774  532774   532774  \n",
       "2017-12-03  528928  528928  528928  528928   528928  \n",
       "2017-12-04       6       6       6       6        6  \n",
       "2017-12-06       3       3       3       3        3  "
      ]
     },
     "execution_count": 123,
     "metadata": {},
     "output_type": "execute_result"
    }
   ],
   "source": [
    "userb.groupby('Date').count()"
   ]
  },
  {
   "cell_type": "code",
   "execution_count": 124,
   "metadata": {},
   "outputs": [],
   "source": [
    "# 决定只保留2017-11-25日到2017-12-03\n",
    "# 对这九天进行分析\n",
    "userb['Date']= userb['Date'][userb['Date'].between('2017-11-25','2017-12-03',inclusive=True)]\n",
    "userb = userb.dropna(axis=0, how='any')"
   ]
  },
  {
   "cell_type": "code",
   "execution_count": 125,
   "metadata": {},
   "outputs": [
    {
     "data": {
      "text/html": [
       "<div>\n",
       "<style scoped>\n",
       "    .dataframe tbody tr th:only-of-type {\n",
       "        vertical-align: middle;\n",
       "    }\n",
       "\n",
       "    .dataframe tbody tr th {\n",
       "        vertical-align: top;\n",
       "    }\n",
       "\n",
       "    .dataframe thead th {\n",
       "        text-align: right;\n",
       "    }\n",
       "</style>\n",
       "<table border=\"1\" class=\"dataframe\">\n",
       "  <thead>\n",
       "    <tr style=\"text-align: right;\">\n",
       "      <th></th>\n",
       "      <th>User_ID</th>\n",
       "      <th>Item_ID</th>\n",
       "      <th>Category_ID</th>\n",
       "      <th>Behavior_type</th>\n",
       "      <th>datetime</th>\n",
       "      <th>Year</th>\n",
       "      <th>Month</th>\n",
       "      <th>Day</th>\n",
       "      <th>Time</th>\n",
       "      <th>时间段</th>\n",
       "      <th>Date</th>\n",
       "      <th>Weekday</th>\n",
       "    </tr>\n",
       "  </thead>\n",
       "  <tbody>\n",
       "    <tr>\n",
       "      <th>0</th>\n",
       "      <td>1</td>\n",
       "      <td>2333346</td>\n",
       "      <td>2520771</td>\n",
       "      <td>pv</td>\n",
       "      <td>2017-11-25 06:15:33</td>\n",
       "      <td>2017.0</td>\n",
       "      <td>11</td>\n",
       "      <td>25</td>\n",
       "      <td>6</td>\n",
       "      <td>上午(06:00-11:00)</td>\n",
       "      <td>2017-11-25</td>\n",
       "      <td>6</td>\n",
       "    </tr>\n",
       "    <tr>\n",
       "      <th>1</th>\n",
       "      <td>1</td>\n",
       "      <td>2576651</td>\n",
       "      <td>149192</td>\n",
       "      <td>pv</td>\n",
       "      <td>2017-11-25 09:21:25</td>\n",
       "      <td>2017.0</td>\n",
       "      <td>11</td>\n",
       "      <td>25</td>\n",
       "      <td>9</td>\n",
       "      <td>上午(06:00-11:00)</td>\n",
       "      <td>2017-11-25</td>\n",
       "      <td>6</td>\n",
       "    </tr>\n",
       "    <tr>\n",
       "      <th>2</th>\n",
       "      <td>1</td>\n",
       "      <td>3830808</td>\n",
       "      <td>4181361</td>\n",
       "      <td>pv</td>\n",
       "      <td>2017-11-25 15:04:53</td>\n",
       "      <td>2017.0</td>\n",
       "      <td>11</td>\n",
       "      <td>25</td>\n",
       "      <td>15</td>\n",
       "      <td>下午(13:00-16:00)</td>\n",
       "      <td>2017-11-25</td>\n",
       "      <td>6</td>\n",
       "    </tr>\n",
       "    <tr>\n",
       "      <th>3</th>\n",
       "      <td>1</td>\n",
       "      <td>4365585</td>\n",
       "      <td>2520377</td>\n",
       "      <td>pv</td>\n",
       "      <td>2017-11-25 15:49:06</td>\n",
       "      <td>2017.0</td>\n",
       "      <td>11</td>\n",
       "      <td>25</td>\n",
       "      <td>15</td>\n",
       "      <td>下午(13:00-16:00)</td>\n",
       "      <td>2017-11-25</td>\n",
       "      <td>6</td>\n",
       "    </tr>\n",
       "    <tr>\n",
       "      <th>4</th>\n",
       "      <td>1</td>\n",
       "      <td>4606018</td>\n",
       "      <td>2735466</td>\n",
       "      <td>pv</td>\n",
       "      <td>2017-11-25 21:28:01</td>\n",
       "      <td>2017.0</td>\n",
       "      <td>11</td>\n",
       "      <td>25</td>\n",
       "      <td>21</td>\n",
       "      <td>晚上(18:00-24:00)</td>\n",
       "      <td>2017-11-25</td>\n",
       "      <td>6</td>\n",
       "    </tr>\n",
       "  </tbody>\n",
       "</table>\n",
       "</div>"
      ],
      "text/plain": [
       "  User_ID  Item_ID Category_ID Behavior_type            datetime    Year  \\\n",
       "0       1  2333346     2520771            pv 2017-11-25 06:15:33  2017.0   \n",
       "1       1  2576651      149192            pv 2017-11-25 09:21:25  2017.0   \n",
       "2       1  3830808     4181361            pv 2017-11-25 15:04:53  2017.0   \n",
       "3       1  4365585     2520377            pv 2017-11-25 15:49:06  2017.0   \n",
       "4       1  4606018     2735466            pv 2017-11-25 21:28:01  2017.0   \n",
       "\n",
       "   Month  Day  Time              时间段       Date  Weekday  \n",
       "0     11   25     6  上午(06:00-11:00) 2017-11-25        6  \n",
       "1     11   25     9  上午(06:00-11:00) 2017-11-25        6  \n",
       "2     11   25    15  下午(13:00-16:00) 2017-11-25        6  \n",
       "3     11   25    15  下午(13:00-16:00) 2017-11-25        6  \n",
       "4     11   25    21  晚上(18:00-24:00) 2017-11-25        6  "
      ]
     },
     "execution_count": 125,
     "metadata": {},
     "output_type": "execute_result"
    }
   ],
   "source": [
    "userb.head(5)"
   ]
  },
  {
   "cell_type": "markdown",
   "metadata": {},
   "source": [
    "7.调整数据类型"
   ]
  },
  {
   "cell_type": "code",
   "execution_count": 126,
   "metadata": {},
   "outputs": [],
   "source": [
    "userb = userb.drop(columns=['datetime','Time','Year','Month','Day'])"
   ]
  },
  {
   "cell_type": "code",
   "execution_count": 127,
   "metadata": {},
   "outputs": [
    {
     "data": {
      "text/html": [
       "<div>\n",
       "<style scoped>\n",
       "    .dataframe tbody tr th:only-of-type {\n",
       "        vertical-align: middle;\n",
       "    }\n",
       "\n",
       "    .dataframe tbody tr th {\n",
       "        vertical-align: top;\n",
       "    }\n",
       "\n",
       "    .dataframe thead th {\n",
       "        text-align: right;\n",
       "    }\n",
       "</style>\n",
       "<table border=\"1\" class=\"dataframe\">\n",
       "  <thead>\n",
       "    <tr style=\"text-align: right;\">\n",
       "      <th></th>\n",
       "      <th>User_ID</th>\n",
       "      <th>Item_ID</th>\n",
       "      <th>Category_ID</th>\n",
       "      <th>Behavior_type</th>\n",
       "      <th>时间段</th>\n",
       "      <th>Date</th>\n",
       "      <th>Weekday</th>\n",
       "    </tr>\n",
       "  </thead>\n",
       "  <tbody>\n",
       "    <tr>\n",
       "      <th>0</th>\n",
       "      <td>1</td>\n",
       "      <td>2333346</td>\n",
       "      <td>2520771</td>\n",
       "      <td>pv</td>\n",
       "      <td>上午(06:00-11:00)</td>\n",
       "      <td>2017-11-25</td>\n",
       "      <td>6</td>\n",
       "    </tr>\n",
       "    <tr>\n",
       "      <th>1</th>\n",
       "      <td>1</td>\n",
       "      <td>2576651</td>\n",
       "      <td>149192</td>\n",
       "      <td>pv</td>\n",
       "      <td>上午(06:00-11:00)</td>\n",
       "      <td>2017-11-25</td>\n",
       "      <td>6</td>\n",
       "    </tr>\n",
       "    <tr>\n",
       "      <th>2</th>\n",
       "      <td>1</td>\n",
       "      <td>3830808</td>\n",
       "      <td>4181361</td>\n",
       "      <td>pv</td>\n",
       "      <td>下午(13:00-16:00)</td>\n",
       "      <td>2017-11-25</td>\n",
       "      <td>6</td>\n",
       "    </tr>\n",
       "    <tr>\n",
       "      <th>3</th>\n",
       "      <td>1</td>\n",
       "      <td>4365585</td>\n",
       "      <td>2520377</td>\n",
       "      <td>pv</td>\n",
       "      <td>下午(13:00-16:00)</td>\n",
       "      <td>2017-11-25</td>\n",
       "      <td>6</td>\n",
       "    </tr>\n",
       "    <tr>\n",
       "      <th>4</th>\n",
       "      <td>1</td>\n",
       "      <td>4606018</td>\n",
       "      <td>2735466</td>\n",
       "      <td>pv</td>\n",
       "      <td>晚上(18:00-24:00)</td>\n",
       "      <td>2017-11-25</td>\n",
       "      <td>6</td>\n",
       "    </tr>\n",
       "  </tbody>\n",
       "</table>\n",
       "</div>"
      ],
      "text/plain": [
       "   User_ID  Item_ID  Category_ID Behavior_type              时间段       Date  \\\n",
       "0        1  2333346      2520771            pv  上午(06:00-11:00) 2017-11-25   \n",
       "1        1  2576651       149192            pv  上午(06:00-11:00) 2017-11-25   \n",
       "2        1  3830808      4181361            pv  下午(13:00-16:00) 2017-11-25   \n",
       "3        1  4365585      2520377            pv  下午(13:00-16:00) 2017-11-25   \n",
       "4        1  4606018      2735466            pv  晚上(18:00-24:00) 2017-11-25   \n",
       "\n",
       "   Weekday  \n",
       "0        6  \n",
       "1        6  \n",
       "2        6  \n",
       "3        6  \n",
       "4        6  "
      ]
     },
     "execution_count": 127,
     "metadata": {},
     "output_type": "execute_result"
    }
   ],
   "source": [
    "userb[['User_ID', 'Item_ID','Category_ID','Weekday']] = userb[['User_ID', 'Item_ID','Category_ID','Weekday']].astype(int)\n",
    "userb.head(5)"
   ]
  },
  {
   "cell_type": "code",
   "execution_count": 128,
   "metadata": {},
   "outputs": [],
   "source": [
    "userb.to_csv(r'D:\\jupyterfile\\项目\\userb2.csv',index = False, encoding = 'gbk')"
   ]
  },
  {
   "cell_type": "markdown",
   "metadata": {},
   "source": [
    "### 用户行为数据分析"
   ]
  },
  {
   "cell_type": "markdown",
   "metadata": {},
   "source": [
    "* PV访问量(Page View): 每点开一次页面即为一次访问量\n",
    "* UV访问数(Unique Visitor): 每个User_ID定义为独立访问访客数\n",
    "* 日访问量变化趋势\n",
    "* 用户在哪个时间段更加活跃\n",
    "* 人均访问量变化趋势"
   ]
  },
  {
   "cell_type": "code",
   "execution_count": 132,
   "metadata": {},
   "outputs": [
    {
     "name": "stdout",
     "output_type": "stream",
     "text": [
      "统计时间内总访问量： 3431902 ;日均访问量： 381322.44\n"
     ]
    }
   ],
   "source": [
    "pv_ttl = userb.groupby(by='Behavior_type').count()\n",
    "pv_mean = round(pv_ttl.loc['pv']['User_ID']/9,2)\n",
    "\n",
    "print('统计时间内总访问量：',pv_ttl.loc['pv']['User_ID'],';日均访问量：',pv_mean)"
   ]
  },
  {
   "cell_type": "code",
   "execution_count": 133,
   "metadata": {},
   "outputs": [
    {
     "name": "stdout",
     "output_type": "stream",
     "text": [
      "统计时间内总独立访问量： 32543 ;日均独立访问量： 3615.89\n"
     ]
    }
   ],
   "source": [
    "uv = userb.drop_duplicates(['User_ID'],'first')\n",
    "uv_ttl = uv.groupby('Behavior_type').count()\n",
    "uv_mean = round(uv_ttl.loc['pv']['User_ID']/9,2)\n",
    "\n",
    "print('统计时间内总独立访问量：',uv_ttl.loc['pv']['User_ID'],';日均独立访问量：',uv_mean)"
   ]
  },
  {
   "cell_type": "code",
   "execution_count": 134,
   "metadata": {
    "scrolled": false
   },
   "outputs": [
    {
     "data": {
      "text/plain": [
       "Date\n",
       "2017-11-25    354563\n",
       "2017-11-26    364554\n",
       "2017-11-27    341435\n",
       "2017-11-28    338412\n",
       "2017-11-29    349892\n",
       "2017-11-30    358866\n",
       "2017-12-01    373857\n",
       "2017-12-02    476867\n",
       "2017-12-03    473456\n",
       "Name: User_ID, dtype: int64"
      ]
     },
     "execution_count": 134,
     "metadata": {},
     "output_type": "execute_result"
    }
   ],
   "source": [
    "# 以天为维度\n",
    "pv_day = userb.groupby(by=['Behavior_type','Date']).count()\n",
    "pv_day.loc['pv']['User_ID']"
   ]
  },
  {
   "cell_type": "code",
   "execution_count": 179,
   "metadata": {},
   "outputs": [
    {
     "name": "stdout",
     "output_type": "stream",
     "text": [
      "2017-11-26 相较于前一日PV增加 9991 ; PV增长率为： 2.82 %\n",
      "2017-11-27 相较于前一日PV增加 -23119 ; PV增长率为： -6.34 %\n",
      "2017-11-28 相较于前一日PV增加 -3023 ; PV增长率为： -0.89 %\n",
      "2017-11-29 相较于前一日PV增加 11480 ; PV增长率为： 3.39 %\n",
      "2017-11-30 相较于前一日PV增加 8974 ; PV增长率为： 2.56 %\n",
      "2017-12-01 相较于前一日PV增加 14991 ; PV增长率为： 4.18 %\n",
      "2017-12-02 相较于前一日PV增加 103010 ; PV增长率为： 27.55 %\n",
      "2017-12-03 相较于前一日PV增加 -3411 ; PV增长率为： -0.72 %\n"
     ]
    }
   ],
   "source": [
    "# PV日增长率\n",
    "pv_ratio = []\n",
    "for date in range(8):\n",
    "    daily_i= pv_day.loc['pv']['User_ID'][date+1] - pv_day.loc['pv']['User_ID'][date]\n",
    "    daily_r= round(daily_i/pv_day.loc['pv']['User_ID'][date]*100,2)\n",
    "    pv_ratio.append(daily_r)\n",
    "    \n",
    "    print(pv_day.loc['pv'].index[date+1].strftime(\"%Y-%m-%d\"),'相较于前一日PV增加',daily_i,'; PV增长率为：',daily_r,'%')"
   ]
  },
  {
   "cell_type": "code",
   "execution_count": 136,
   "metadata": {},
   "outputs": [
    {
     "data": {
      "text/plain": [
       "时间段\n",
       "上午(06:00-11:00)     560509\n",
       "下午(13:00-16:00)     539592\n",
       "中午(11:00-13:00)     325899\n",
       "傍晚(16:00-18:00)     336345\n",
       "凌晨(00:00-06:00)     256844\n",
       "晚上(18:00-24:00)    1412713\n",
       "Name: User_ID, dtype: int64"
      ]
     },
     "execution_count": 136,
     "metadata": {},
     "output_type": "execute_result"
    }
   ],
   "source": [
    "# 以时间段为维度\n",
    "pv_slot = userb.groupby(by=['Behavior_type','时间段']).count()\n",
    "pv_slot.loc['pv']['User_ID']"
   ]
  },
  {
   "cell_type": "code",
   "execution_count": 137,
   "metadata": {},
   "outputs": [
    {
     "data": {
      "text/plain": [
       "Weekday\n",
       "1    331679\n",
       "2    336447\n",
       "3    349209\n",
       "4    358591\n",
       "5    374051\n",
       "6    486929\n",
       "7    475879\n",
       "Name: User_ID, dtype: int64"
      ]
     },
     "execution_count": 137,
     "metadata": {},
     "output_type": "execute_result"
    }
   ],
   "source": [
    "# 以weekday为维度\n",
    "# 分析一个自然周：2017-11-27到2017-12-03\n",
    "week = userb[userb['Date'].between('2017-11-27','2017-12-03',inclusive=True)]\n",
    "pv_wd = week.groupby(by=['Behavior_type','Weekday']).count()\n",
    "pv_wd.loc['pv']['User_ID']"
   ]
  },
  {
   "cell_type": "code",
   "execution_count": 138,
   "metadata": {},
   "outputs": [
    {
     "data": {
      "text/plain": [
       "Date\n",
       "2017-11-25    23391\n",
       "2017-11-26    23749\n",
       "2017-11-27    23226\n",
       "2017-11-28    23385\n",
       "2017-11-29    23811\n",
       "2017-11-30    24157\n",
       "2017-12-01    24306\n",
       "2017-12-02    31831\n",
       "2017-12-03    31804\n",
       "Name: User_ID, dtype: int64"
      ]
     },
     "execution_count": 138,
     "metadata": {},
     "output_type": "execute_result"
    }
   ],
   "source": [
    "# uv by day\n",
    "uv2 = userb.drop_duplicates(['User_ID','Date'],'first')\n",
    "uv_day = uv2.groupby(['Behavior_type','Date']).count()\n",
    "uv_day.loc['pv']['User_ID']"
   ]
  },
  {
   "cell_type": "code",
   "execution_count": 181,
   "metadata": {},
   "outputs": [
    {
     "name": "stdout",
     "output_type": "stream",
     "text": [
      "2017-11-26 相较于前一日UV增加 358 ; PV增长率为： 1.53 %\n",
      "2017-11-27 相较于前一日UV增加 -523 ; PV增长率为： -2.2 %\n",
      "2017-11-28 相较于前一日UV增加 159 ; PV增长率为： 0.68 %\n",
      "2017-11-29 相较于前一日UV增加 426 ; PV增长率为： 1.82 %\n",
      "2017-11-30 相较于前一日UV增加 346 ; PV增长率为： 1.45 %\n",
      "2017-12-01 相较于前一日UV增加 149 ; PV增长率为： 0.62 %\n",
      "2017-12-02 相较于前一日UV增加 7525 ; PV增长率为： 30.96 %\n",
      "2017-12-03 相较于前一日UV增加 -27 ; PV增长率为： -0.08 %\n"
     ]
    }
   ],
   "source": [
    "# UV日增长率\n",
    "uv_ratio = []\n",
    "for date2 in range(8):\n",
    "    daily_i2= uv_day.loc['pv']['User_ID'][date2+1] - uv_day.loc['pv']['User_ID'][date2]\n",
    "    daily_r2= round(daily_i2/uv_day.loc['pv']['User_ID'][date2]*100,2)\n",
    "    uv_ratio.append(daily_r2)\n",
    "    \n",
    "    print(uv_day.loc['pv'].index[date2+1].strftime(\"%Y-%m-%d\"),'相较于前一日UV增加',daily_i2,'; PV增长率为：',daily_r2,'%')"
   ]
  },
  {
   "cell_type": "code",
   "execution_count": 140,
   "metadata": {
    "scrolled": true
   },
   "outputs": [
    {
     "data": {
      "text/plain": [
       "时间段\n",
       "上午(06:00-11:00)    27835\n",
       "下午(13:00-16:00)    28162\n",
       "中午(11:00-13:00)    25321\n",
       "傍晚(16:00-18:00)    25289\n",
       "凌晨(00:00-06:00)    14851\n",
       "晚上(18:00-24:00)    31802\n",
       "Name: User_ID, dtype: int64"
      ]
     },
     "execution_count": 140,
     "metadata": {},
     "output_type": "execute_result"
    }
   ],
   "source": [
    "# uv by slot\n",
    "uv3 = userb.drop_duplicates(['User_ID','时间段'],'first')\n",
    "uv_slot = uv3.groupby(['Behavior_type','时间段']).count()\n",
    "uv_slot.loc['pv']['User_ID']"
   ]
  },
  {
   "cell_type": "code",
   "execution_count": 141,
   "metadata": {},
   "outputs": [
    {
     "data": {
      "text/plain": [
       "Weekday\n",
       "1    22250\n",
       "2    22916\n",
       "3    23523\n",
       "4    23988\n",
       "5    24227\n",
       "6    31710\n",
       "7    31629\n",
       "Name: User_ID, dtype: int64"
      ]
     },
     "execution_count": 141,
     "metadata": {},
     "output_type": "execute_result"
    }
   ],
   "source": [
    "# 以weekday为维度 \n",
    "uv4 = week.drop_duplicates(['User_ID','Weekday'],'first')\n",
    "uv_wd = uv4.groupby(by=['Behavior_type','Weekday']).count()\n",
    "uv_wd.loc['pv']['User_ID']"
   ]
  },
  {
   "cell_type": "code",
   "execution_count": 142,
   "metadata": {},
   "outputs": [
    {
     "data": {
      "text/plain": [
       "Date\n",
       "2017-11-25    15.158095\n",
       "2017-11-26    15.350288\n",
       "2017-11-27    14.700551\n",
       "2017-11-28    14.471328\n",
       "2017-11-29    14.694553\n",
       "2017-11-30    14.855570\n",
       "2017-12-01    15.381264\n",
       "2017-12-02    14.981213\n",
       "2017-12-03    14.886681\n",
       "Name: User_ID, dtype: float64"
      ]
     },
     "execution_count": 142,
     "metadata": {},
     "output_type": "execute_result"
    }
   ],
   "source": [
    "# pv/uv by day\n",
    "pu_day = pv_day.loc['pv']['User_ID']/uv_day.loc['pv']['User_ID']\n",
    "pu_day"
   ]
  },
  {
   "cell_type": "code",
   "execution_count": 147,
   "metadata": {
    "scrolled": true
   },
   "outputs": [
    {
     "data": {
      "text/plain": [
       "时间段\n",
       "上午(06:00-11:00)    2.237427\n",
       "下午(13:00-16:00)    2.128921\n",
       "中午(11:00-13:00)    1.430078\n",
       "傍晚(16:00-18:00)    1.477783\n",
       "凌晨(00:00-06:00)    1.921636\n",
       "晚上(18:00-24:00)    4.935794\n",
       "Name: User_ID, dtype: float64"
      ]
     },
     "execution_count": 147,
     "metadata": {},
     "output_type": "execute_result"
    }
   ],
   "source": [
    "# pu/uv by slot\n",
    "pu_slot = (pv_slot.loc['pv']['User_ID']/uv_slot.loc['pv']['User_ID'])/9\n",
    "pu_slot"
   ]
  },
  {
   "cell_type": "code",
   "execution_count": 144,
   "metadata": {},
   "outputs": [
    {
     "data": {
      "text/plain": [
       "Weekday\n",
       "1    14.906921\n",
       "2    14.681751\n",
       "3    14.845428\n",
       "4    14.948766\n",
       "5    15.439427\n",
       "6    15.355692\n",
       "7    15.045654\n",
       "Name: User_ID, dtype: float64"
      ]
     },
     "execution_count": 144,
     "metadata": {},
     "output_type": "execute_result"
    }
   ],
   "source": [
    "# pu/uv by weekday\n",
    "pu_wd = pv_wd.loc['pv']['User_ID']/uv_wd.loc['pv']['User_ID']\n",
    "pu_wd"
   ]
  },
  {
   "cell_type": "markdown",
   "metadata": {},
   "source": [
    "### 可视化"
   ]
  },
  {
   "cell_type": "code",
   "execution_count": 149,
   "metadata": {},
   "outputs": [],
   "source": [
    "plt.rcParams['font.sans-serif'] = ['SimHei'] #解决中文显示乱码问题\n",
    "plt.rcParams['axes.unicode_minus'] = False #解决符号显示问题"
   ]
  },
  {
   "cell_type": "code",
   "execution_count": 184,
   "metadata": {},
   "outputs": [
    {
     "data": {
      "text/plain": [
       "[1.53, -2.2, 0.68, 1.82, 1.45, 0.62, 30.96, -0.08]"
      ]
     },
     "execution_count": 184,
     "metadata": {},
     "output_type": "execute_result"
    }
   ],
   "source": [
    "uv_ratio"
   ]
  },
  {
   "cell_type": "code",
   "execution_count": 190,
   "metadata": {},
   "outputs": [
    {
     "data": {
      "image/png": "[encoded data removed]",
      "text/plain": [
       "<Figure size 432x288 with 2 Axes>"
      ]
     },
     "metadata": {
      "needs_background": "light"
     },
     "output_type": "display_data"
    }
   ],
   "source": [
    "x = ['2017-11-26(周日)','2017-11-27(周一)','2017-11-28(周二)','2017-11-29(周三)','2017-11-30(周四)','2017-12-01(周五)','2017-12-02(周六)','2017-12-03(周日)']\n",
    "fig2 = plt.figure()\n",
    "a = fig2.add_subplot(111)\n",
    "a.plot(x,pv_ratio,'bo-',label='PV日增长率')\n",
    "a.set_xlabel('Date')\n",
    "a.set_ylabel('PV增长率(%)')\n",
    "plt.axhline(y=0,ls=':',c='red')\n",
    "plt.xticks(rotation=30,fontsize=10)\n",
    "plt.legend(loc='best')\n",
    "\n",
    "b = a.twinx()\n",
    "b.plot(x,uv_ratio,'gx-',label='UV日增长率')\n",
    "b.set_ylabel('UV增长率(%)')\n",
    "plt.axhline(y=0,ls=':',c='red')\n",
    "plt.legend(loc='upper center')\n",
    "plt.title('PV、UV增长率')\n",
    "plt.show()"
   ]
  },
  {
   "cell_type": "code",
   "execution_count": 151,
   "metadata": {
    "scrolled": true
   },
   "outputs": [
    {
     "data": {
      "image/png": "[encoded data removed]",
      "text/plain": [
       "<Figure size 432x288 with 2 Axes>"
      ]
     },
     "metadata": {
      "needs_background": "light"
     },
     "output_type": "display_data"
    }
   ],
   "source": [
    "fig = plt.figure()\n",
    "ax1 = fig.add_subplot(111)\n",
    "ax1.plot(pv_day.loc['pv']['User_ID'].index,pv_day.loc['pv']['User_ID'],'bo-',label='PV')\n",
    "ax1.set_xlabel('Date')\n",
    "ax1.set_ylabel('PV')\n",
    "plt.axhline(y=pv_mean,ls=':',c='darkblue')\n",
    "plt.xticks(rotation=45,fontsize=10)\n",
    "plt.legend(loc='best')\n",
    "\n",
    "ax2 = ax1.twinx()\n",
    "ax2.plot(uv_day.loc['pv']['User_ID'].index,uv_day.loc['pv']['User_ID'],'gx-',label='UV')\n",
    "ax2.set_ylabel('UV')\n",
    "plt.legend(loc='upper center')\n",
    "plt.title('PV、UV趋势图 - 日期维度')\n",
    "plt.show()"
   ]
  },
  {
   "cell_type": "code",
   "execution_count": 152,
   "metadata": {},
   "outputs": [
    {
     "data": {
      "image/png": "[encoded data removed]",
      "text/plain": [
       "<Figure size 432x288 with 2 Axes>"
      ]
     },
     "metadata": {
      "needs_background": "light"
     },
     "output_type": "display_data"
    }
   ],
   "source": [
    "fig = plt.figure()\n",
    "ax3 = fig.add_subplot(111)\n",
    "ax3.plot(pv_slot.loc['pv']['User_ID'].index,pv_slot.loc['pv']['User_ID'],'r-',label='PV')\n",
    "ax3.set_xlabel('时间段')\n",
    "ax3.set_ylabel('PV')\n",
    "plt.xticks(rotation=45,fontsize=10)\n",
    "plt.legend(loc='best')\n",
    "\n",
    "ax4 = ax3.twinx()\n",
    "ax4.plot(uv_slot.loc['pv']['User_ID'].index,uv_slot.loc['pv']['User_ID'],'y-',label='UV')\n",
    "ax4.set_ylabel('UV')\n",
    "plt.legend(loc='upper center')\n",
    "plt.title('PV、UV趋势图 - 时间段维度')\n",
    "plt.show()"
   ]
  },
  {
   "cell_type": "code",
   "execution_count": 165,
   "metadata": {},
   "outputs": [
    {
     "data": {
      "image/png": "[encoded data removed]",
      "text/plain": [
       "<Figure size 864x504 with 3 Axes>"
      ]
     },
     "metadata": {
      "needs_background": "light"
     },
     "output_type": "display_data"
    }
   ],
   "source": [
    "plt.figure(figsize=(12,7))\n",
    "plt.subplot2grid((2,2),(0,0),colspan=1,rowspan=2) \n",
    "plt.plot(pu_day.index,pu_day,'bo-')\n",
    "plt.xticks(rotation=30,fontsize=10)\n",
    "plt.xlabel('日期')\n",
    "plt.title('每日人均访问量趋势图')\n",
    "plt.ylabel('PV/UV')\n",
    "\n",
    "plt.subplot2grid((2,2),(0,1),colspan=1,rowspan=1)\n",
    "plt.plot(pu_wd.index,pu_wd,'o-')\n",
    "# plt.xlabel('Weekday')\n",
    "plt.title('自然周内人均访问量')\n",
    "plt.ylabel('PV/UV')\n",
    "\n",
    "plt.subplot2grid((2,2),(1,1),colspan=1,rowspan=1)\n",
    "plt.plot(pu_slot.index,pu_slot,'o-')\n",
    "plt.xticks(rotation=30,fontsize=10)\n",
    "plt.xlabel('时间段')\n",
    "plt.ylabel('PV/UV')\n",
    "plt.title('各时间段日均人均访问量')\n",
    "plt.show()"
   ]
  },
  {
   "cell_type": "markdown",
   "metadata": {},
   "source": [
    "### 用户行为路径分析\n",
    "* 行为之间的转化率\n",
    "* 跳失率"
   ]
  },
  {
   "cell_type": "markdown",
   "metadata": {},
   "source": [
    "* pv：Page view of an item's detail page, equivalent to an item click\n",
    "* buy: Purchase an item\n",
    "* cart：Add an item to shopping cart\n",
    "* fav：Favor an item"
   ]
  },
  {
   "cell_type": "code",
   "execution_count": 515,
   "metadata": {},
   "outputs": [
    {
     "data": {
      "text/html": [
       "<div>\n",
       "<style scoped>\n",
       "    .dataframe tbody tr th:only-of-type {\n",
       "        vertical-align: middle;\n",
       "    }\n",
       "\n",
       "    .dataframe tbody tr th {\n",
       "        vertical-align: top;\n",
       "    }\n",
       "\n",
       "    .dataframe thead th {\n",
       "        text-align: right;\n",
       "    }\n",
       "</style>\n",
       "<table border=\"1\" class=\"dataframe\">\n",
       "  <thead>\n",
       "    <tr style=\"text-align: right;\">\n",
       "      <th></th>\n",
       "      <th>User_ID</th>\n",
       "      <th>Item_ID</th>\n",
       "      <th>Category_ID</th>\n",
       "      <th>时间段</th>\n",
       "      <th>Date</th>\n",
       "      <th>Year</th>\n",
       "      <th>Month</th>\n",
       "      <th>Day</th>\n",
       "      <th>Weekday</th>\n",
       "    </tr>\n",
       "    <tr>\n",
       "      <th>Behavior_type</th>\n",
       "      <th></th>\n",
       "      <th></th>\n",
       "      <th></th>\n",
       "      <th></th>\n",
       "      <th></th>\n",
       "      <th></th>\n",
       "      <th></th>\n",
       "      <th></th>\n",
       "      <th></th>\n",
       "    </tr>\n",
       "  </thead>\n",
       "  <tbody>\n",
       "    <tr>\n",
       "      <th>buy</th>\n",
       "      <td>76705</td>\n",
       "      <td>76705</td>\n",
       "      <td>76705</td>\n",
       "      <td>76705</td>\n",
       "      <td>76705</td>\n",
       "      <td>76705</td>\n",
       "      <td>76705</td>\n",
       "      <td>76705</td>\n",
       "      <td>76705</td>\n",
       "    </tr>\n",
       "    <tr>\n",
       "      <th>cart</th>\n",
       "      <td>213634</td>\n",
       "      <td>213634</td>\n",
       "      <td>213634</td>\n",
       "      <td>213634</td>\n",
       "      <td>213634</td>\n",
       "      <td>213634</td>\n",
       "      <td>213634</td>\n",
       "      <td>213634</td>\n",
       "      <td>213634</td>\n",
       "    </tr>\n",
       "    <tr>\n",
       "      <th>fav</th>\n",
       "      <td>111140</td>\n",
       "      <td>111140</td>\n",
       "      <td>111140</td>\n",
       "      <td>111140</td>\n",
       "      <td>111140</td>\n",
       "      <td>111140</td>\n",
       "      <td>111140</td>\n",
       "      <td>111140</td>\n",
       "      <td>111140</td>\n",
       "    </tr>\n",
       "    <tr>\n",
       "      <th>pv</th>\n",
       "      <td>3431902</td>\n",
       "      <td>3431902</td>\n",
       "      <td>3431902</td>\n",
       "      <td>3431902</td>\n",
       "      <td>3431902</td>\n",
       "      <td>3431902</td>\n",
       "      <td>3431902</td>\n",
       "      <td>3431902</td>\n",
       "      <td>3431902</td>\n",
       "    </tr>\n",
       "  </tbody>\n",
       "</table>\n",
       "</div>"
      ],
      "text/plain": [
       "               User_ID  Item_ID  Category_ID      时间段     Date     Year  \\\n",
       "Behavior_type                                                             \n",
       "buy              76705    76705        76705    76705    76705    76705   \n",
       "cart            213634   213634       213634   213634   213634   213634   \n",
       "fav             111140   111140       111140   111140   111140   111140   \n",
       "pv             3431902  3431902      3431902  3431902  3431902  3431902   \n",
       "\n",
       "                 Month      Day  Weekday  \n",
       "Behavior_type                             \n",
       "buy              76705    76705    76705  \n",
       "cart            213634   213634   213634  \n",
       "fav             111140   111140   111140  \n",
       "pv             3431902  3431902  3431902  "
      ]
     },
     "execution_count": 515,
     "metadata": {},
     "output_type": "execute_result"
    }
   ],
   "source": [
    "pv_ttl"
   ]
  },
  {
   "cell_type": "code",
   "execution_count": 516,
   "metadata": {
    "scrolled": false
   },
   "outputs": [
    {
     "name": "stdout",
     "output_type": "stream",
     "text": [
      "由浏览页面到收藏的转化率为:  3.24 %\n",
      "由加入购物车到购买的转化率为:  35.9 %\n",
      "由浏览页面到加入购物车的转化率为:  6.22 %\n",
      "最终购买转化率为:  2.24 %\n"
     ]
    }
   ],
   "source": [
    "# 用户行为转化率\n",
    "pv_fav = round((pv_ttl.loc['fav']['User_ID']/pv_ttl.loc['pv']['User_ID']) *100,2)\n",
    "pv_cart = round((pv_ttl.loc['cart']['User_ID']/pv_ttl.loc['pv']['User_ID']) *100,2)\n",
    "fav_buy = round((pv_ttl.loc['buy']['User_ID']/pv_ttl.loc['fav']['User_ID']) *100,2)\n",
    "cart_buy = round((pv_ttl.loc['buy']['User_ID']/pv_ttl.loc['cart']['User_ID']) *100,2)\n",
    "buy_pv = round((pv_ttl.loc['buy']['User_ID']/pv_ttl.loc['pv']['User_ID']) *100,2)\n",
    "\n",
    "print('由浏览页面到收藏的转化率为: ',pv_fav,'%')\n",
    "# print('由收藏到到购买的转化率为: ',fav_buy,'%')\n",
    "print('由加入购物车到购买的转化率为: ',cart_buy,'%')\n",
    "print('由浏览页面到加入购物车的转化率为: ',pv_cart,'%')\n",
    "print('最终购买转化率为: ',buy_pv,'%')"
   ]
  },
  {
   "cell_type": "code",
   "execution_count": 166,
   "metadata": {},
   "outputs": [
    {
     "name": "stdout",
     "output_type": "stream",
     "text": [
      "由页面浏览到加入购物车的转化率为:  6.22 %\n",
      "由页面浏览到最终购买的转化率为:  2.24 %\n"
     ]
    }
   ],
   "source": [
    "# 用户行为转化率\n",
    "pv_cart = round((pv_ttl.loc['cart']['User_ID']/pv_ttl.loc['pv']['User_ID']) *100,2)\n",
    "buy_pv = round((pv_ttl.loc['buy']['User_ID']/pv_ttl.loc['pv']['User_ID']) *100,2)\n",
    "\n",
    "print('由页面浏览到加入购物车的转化率为: ',pv_cart,'%')\n",
    "print('由页面浏览到最终购买的转化率为: ',buy_pv,'%')"
   ]
  },
  {
   "cell_type": "code",
   "execution_count": 167,
   "metadata": {},
   "outputs": [
    {
     "name": "stdout",
     "output_type": "stream",
     "text": [
      "由页面浏览到加入购物车的用户转化率为:  7.32 %\n",
      "由页面浏览到最终购买的用户转化率为:  4.02 %\n"
     ]
    }
   ],
   "source": [
    "# 独立访问转化率\n",
    "pv_cart_u = round((uv_ttl.loc['cart']['User_ID']/uv_ttl.loc['pv']['User_ID']) *100,2)\n",
    "buy_pv_u = round((uv_ttl.loc['buy']['User_ID']/uv_ttl.loc['pv']['User_ID']) *100,2)\n",
    "\n",
    "print('由页面浏览到加入购物车的用户转化率为: ',pv_cart_u,'%')\n",
    "print('由页面浏览到最终购买的用户转化率为: ',buy_pv_u,'%')"
   ]
  },
  {
   "cell_type": "code",
   "execution_count": 517,
   "metadata": {},
   "outputs": [
    {
     "name": "stdout",
     "output_type": "stream",
     "text": [
      "由浏览页面到收藏的转化率为:  3.51 %\n",
      "由加入购物车到购买的转化率为:  54.93 %\n",
      "由浏览页面到加入购物车的转化率为:  7.32 %\n",
      "最终购买转化率为:  4.02 %\n"
     ]
    }
   ],
   "source": [
    "# 独立访问转化率\n",
    "pv_fav_u = round((uv_ttl.loc['fav']['User_ID']/uv_ttl.loc['pv']['User_ID']) *100,2)\n",
    "pv_cart_u = round((uv_ttl.loc['cart']['User_ID']/uv_ttl.loc['pv']['User_ID']) *100,2)\n",
    "fav_buy_u = round((uv_ttl.loc['buy']['User_ID']/uv_ttl.loc['fav']['User_ID']) *100,2)\n",
    "cart_buy_u = round((uv_ttl.loc['buy']['User_ID']/uv_ttl.loc['cart']['User_ID']) *100,2)\n",
    "buy_pv_u = round((uv_ttl.loc['buy']['User_ID']/uv_ttl.loc['pv']['User_ID']) *100,2)\n",
    "\n",
    "print('由浏览页面到收藏的转化率为: ',pv_fav_u,'%')\n",
    "# print('由收藏到到购买的转化率为: ',fav_buy,'%')\n",
    "print('由加入购物车到购买的转化率为: ',cart_buy_u,'%')\n",
    "print('由浏览页面到加入购物车的转化率为: ',pv_cart_u,'%')\n",
    "print('最终购买转化率为: ',buy_pv_u,'%')"
   ]
  },
  {
   "cell_type": "code",
   "execution_count": 518,
   "metadata": {},
   "outputs": [
    {
     "name": "stdout",
     "output_type": "stream",
     "text": [
      "跳失率为： 12.93 %\n"
     ]
    }
   ],
   "source": [
    "#跳失率：访问一个页面后离开网站的次数/总访问次数\n",
    "BR = round((uv_ttl.iloc[0:3].sum()[0]/uv_ttl.sum()[0])*100,2)\n",
    "print('跳失率为：',BR,'%')"
   ]
  },
  {
   "cell_type": "markdown",
   "metadata": {},
   "source": [
    "#### 漏斗图可视化"
   ]
  },
  {
   "cell_type": "code",
   "execution_count": 519,
   "metadata": {},
   "outputs": [],
   "source": [
    "from pyecharts.globals import CurrentConfig, OnlineHostType\n",
    "CurrentConfig.ONLINE_HOST = OnlineHostType.NOTEBOOK_HOST"
   ]
  },
  {
   "cell_type": "code",
   "execution_count": 520,
   "metadata": {},
   "outputs": [],
   "source": [
    "# from pyecharts import options as opts\n",
    "# funnel(init_opts=ops.InitOpts(js_host=\"https://cdn.bootcss.com/echarts/4.4.0-rc.1/\"))"
   ]
  },
  {
   "cell_type": "code",
   "execution_count": 521,
   "metadata": {},
   "outputs": [],
   "source": [
    "# from pyecharts.charts.funnel import Funnel\n",
    "# funnel.load_javascript()"
   ]
  },
  {
   "cell_type": "code",
   "execution_count": 522,
   "metadata": {
    "scrolled": true
   },
   "outputs": [],
   "source": [
    "from pyecharts.charts.funnel import Funnel\n",
    "funnel = Funnel('用户行为转化漏斗图', title_pos='center')"
   ]
  },
  {
   "cell_type": "code",
   "execution_count": 523,
   "metadata": {},
   "outputs": [],
   "source": [
    "funnel.add(name='用户行为转化漏斗图',\n",
    "           attr=['浏览','加购','购买'],\n",
    "           value=[100,6.22,2.24],\n",
    "           is_label_show=True, \n",
    "           label_pos=\"inside\",\n",
    "           label_text_color=\"#fff\")"
   ]
  },
  {
   "cell_type": "code",
   "execution_count": 524,
   "metadata": {},
   "outputs": [],
   "source": [
    "# funnel.render_notebook()"
   ]
  },
  {
   "cell_type": "code",
   "execution_count": 525,
   "metadata": {},
   "outputs": [],
   "source": [
    "#funnel(init_opts=ops.InitOpts(js_host=\"https://cdn.bootcss.com/echarts/4.4.0-rc.1/\"))"
   ]
  },
  {
   "cell_type": "code",
   "execution_count": 171,
   "metadata": {},
   "outputs": [
    {
     "data": {
      "image/png": "[encoded data removed]",
      "text/plain": [
       "<Figure size 432x288 with 1 Axes>"
      ]
     },
     "metadata": {
      "needs_background": "light"
     },
     "output_type": "display_data"
    }
   ],
   "source": [
    "b2 = ['PV','CART','BUY']\n",
    "r2 = [100,pv_cart,buy_pv]\n",
    "\n",
    "plt.barh(range(3), r2)\n",
    "plt.yticks(range(3), b2)\n",
    "plt.gca().invert_yaxis()\n",
    "plt.xlabel(u\"转化率\")\n",
    "plt.ylabel(u'用户行为')\n",
    "plt.title(u\"浏览、加购、购买行为之间转化率\")\n",
    "\n",
    "for x2, y2 in enumerate(r2):\n",
    "    plt.text(y2, x2, '%s' % y2 + '%')"
   ]
  },
  {
   "cell_type": "code",
   "execution_count": 169,
   "metadata": {
    "scrolled": true
   },
   "outputs": [
    {
     "data": {
      "image/png": "[encoded data removed]",
      "text/plain": [
       "<Figure size 432x288 with 1 Axes>"
      ]
     },
     "metadata": {
      "needs_background": "light"
     },
     "output_type": "display_data"
    }
   ],
   "source": [
    "b = ['UV','CART','BUY']\n",
    "r = [100,pv_cart_u,buy_pv_u]\n",
    "\n",
    "plt.barh(range(3), r)\n",
    "plt.yticks(range(3), b)\n",
    "plt.gca().invert_yaxis()\n",
    "plt.xlabel(u\"转化率\")\n",
    "plt.ylabel(u'用户行为')\n",
    "plt.title(u\"浏览、加购、购买行为之间转化率\")\n",
    "\n",
    "for x, y in enumerate(r):\n",
    "    plt.text(y, x, '%s' % y + '%')\n",
    "    \n",
    "plt.show()"
   ]
  },
  {
   "cell_type": "code",
   "execution_count": 527,
   "metadata": {},
   "outputs": [],
   "source": [
    "?plt.barh"
   ]
  },
  {
   "cell_type": "markdown",
   "metadata": {},
   "source": [
    "### 用户购买行为分析\n",
    "* 复购率\n",
    "* 最受欢迎的十个商品种类\n",
    "* 购买率"
   ]
  },
  {
   "cell_type": "code",
   "execution_count": 173,
   "metadata": {},
   "outputs": [
    {
     "name": "stdout",
     "output_type": "stream",
     "text": [
      "65.8 %的用户在统计时间内有多次购买的行为\n"
     ]
    }
   ],
   "source": [
    "# 有多少用户在淘宝平台上有多次购买的行为\n",
    "# 重复购买行为:有购买行为超过一次的用户人数/有购买行为的总人数\n",
    "buy_unit = userb[['User_ID','Date']][userb['Behavior_type']=='buy'].groupby(['User_ID']).count()\n",
    "rebuy_r = round((buy_unit['Date'].value_counts().values[1:46].sum()/buy_unit['Date'].count()*100),2)\n",
    "\n",
    "print(rebuy_r,'%的用户在统计时间内有多次购买的行为')"
   ]
  },
  {
   "cell_type": "code",
   "execution_count": 174,
   "metadata": {},
   "outputs": [
    {
     "name": "stdout",
     "output_type": "stream",
     "text": [
      "0.04 %的用户在统计时间内对相同商品有复购行为\n",
      "0.11 %的用户在统计时间内对相同种类的商品有复购行为\n"
     ]
    }
   ],
   "source": [
    "# 用户对相同商品的复购率\n",
    "buy_item = userb[['User_ID','Item_ID','Date']][userb['Behavior_type']=='buy'].groupby(['Item_ID','User_ID']).count()\n",
    "rebuy_i = round((buy_item['Date'].value_counts().values[1:11].sum()/buy_item['Date'].count()),2)\n",
    "# 用户对相同品类的复购率\n",
    "buy_ctg = userb[['User_ID','Category_ID','Date']][userb['Behavior_type']=='buy'].groupby(['Category_ID','User_ID']).count()\n",
    "rebuy_c = round((buy_ctg['Date'].value_counts().values[1:20].sum()/buy_ctg['Date'].count()),2)\n",
    "\n",
    "print(rebuy_i,'%的用户在统计时间内对相同商品有复购行为')\n",
    "print(rebuy_c,'%的用户在统计时间内对相同种类的商品有复购行为')"
   ]
  },
  {
   "cell_type": "code",
   "execution_count": 172,
   "metadata": {
    "scrolled": true
   },
   "outputs": [
    {
     "data": {
      "text/html": [
       "<div>\n",
       "<style scoped>\n",
       "    .dataframe tbody tr th:only-of-type {\n",
       "        vertical-align: middle;\n",
       "    }\n",
       "\n",
       "    .dataframe tbody tr th {\n",
       "        vertical-align: top;\n",
       "    }\n",
       "\n",
       "    .dataframe thead th {\n",
       "        text-align: right;\n",
       "    }\n",
       "</style>\n",
       "<table border=\"1\" class=\"dataframe\">\n",
       "  <thead>\n",
       "    <tr style=\"text-align: right;\">\n",
       "      <th></th>\n",
       "      <th>Date</th>\n",
       "    </tr>\n",
       "    <tr>\n",
       "      <th>Category_ID</th>\n",
       "      <th></th>\n",
       "    </tr>\n",
       "  </thead>\n",
       "  <tbody>\n",
       "    <tr>\n",
       "      <th>1464116</th>\n",
       "      <td>1431</td>\n",
       "    </tr>\n",
       "    <tr>\n",
       "      <th>2735466</th>\n",
       "      <td>1388</td>\n",
       "    </tr>\n",
       "    <tr>\n",
       "      <th>4145813</th>\n",
       "      <td>1297</td>\n",
       "    </tr>\n",
       "    <tr>\n",
       "      <th>2885642</th>\n",
       "      <td>1205</td>\n",
       "    </tr>\n",
       "    <tr>\n",
       "      <th>4756105</th>\n",
       "      <td>1097</td>\n",
       "    </tr>\n",
       "    <tr>\n",
       "      <th>4801426</th>\n",
       "      <td>1053</td>\n",
       "    </tr>\n",
       "    <tr>\n",
       "      <th>982926</th>\n",
       "      <td>923</td>\n",
       "    </tr>\n",
       "    <tr>\n",
       "      <th>2640118</th>\n",
       "      <td>698</td>\n",
       "    </tr>\n",
       "    <tr>\n",
       "      <th>3002561</th>\n",
       "      <td>686</td>\n",
       "    </tr>\n",
       "    <tr>\n",
       "      <th>4357323</th>\n",
       "      <td>630</td>\n",
       "    </tr>\n",
       "  </tbody>\n",
       "</table>\n",
       "</div>"
      ],
      "text/plain": [
       "             Date\n",
       "Category_ID      \n",
       "1464116      1431\n",
       "2735466      1388\n",
       "4145813      1297\n",
       "2885642      1205\n",
       "4756105      1097\n",
       "4801426      1053\n",
       "982926        923\n",
       "2640118       698\n",
       "3002561       686\n",
       "4357323       630"
      ]
     },
     "execution_count": 172,
     "metadata": {},
     "output_type": "execute_result"
    }
   ],
   "source": [
    "# 最受欢迎的十个商品种类\n",
    "num_buy = userb[['Category_ID','Date']][userb['Behavior_type']=='buy'].groupby(['Category_ID']).count()\n",
    "num_buy.sort_values('Date',ascending=False).head(10)"
   ]
  },
  {
   "cell_type": "code",
   "execution_count": 175,
   "metadata": {},
   "outputs": [],
   "source": [
    "buy = userb[['User_ID','Item_ID']][userb['Behavior_type']=='buy']\n",
    "fav = userb[['User_ID','Item_ID']][userb['Behavior_type']=='fav']\n",
    "cart = userb[['User_ID','Item_ID']][userb['Behavior_type']=='cart']"
   ]
  },
  {
   "cell_type": "code",
   "execution_count": 176,
   "metadata": {},
   "outputs": [
    {
     "name": "stdout",
     "output_type": "stream",
     "text": [
      "同时收藏又加购的商品的购买率: 12.96 %\n"
     ]
    }
   ],
   "source": [
    "# 同时收藏又加购的商品的购买率\n",
    "favcart = pd.merge(left =fav,right =cart, how ='inner', left_on=['User_ID','Item_ID'],right_on=['User_ID','Item_ID'])\n",
    "buy1 = pd.merge(left =favcart,right =buy, how ='inner', left_on=['User_ID','Item_ID'],right_on=['User_ID','Item_ID']) \n",
    "ratio = round((buy1.count()[0]/favcart.count()[0]*100),2)\n",
    "\n",
    "print('同时收藏又加购的商品的购买率:',ratio,'%')"
   ]
  },
  {
   "cell_type": "code",
   "execution_count": 177,
   "metadata": {},
   "outputs": [
    {
     "name": "stdout",
     "output_type": "stream",
     "text": [
      "仅加购没有收藏的商品的购买率: 6.5 %\n"
     ]
    }
   ],
   "source": [
    "# 仅加购没有收藏的商品的购买率\n",
    "cart2 = cart.copy()\n",
    "fav2 = fav.copy()\n",
    "\n",
    "#取补集：仅加购没有收藏的商品\n",
    "cart2 = cart2.append(fav2)\n",
    "cart2 = cart2.append(fav2)\n",
    "cart2 = cart2.drop_duplicates(keep=False) \n",
    "\n",
    "buy2 = pd.merge(left =cart2,right =buy, how ='inner', left_on=['User_ID','Item_ID'],right_on=['User_ID','Item_ID'])\n",
    "ratio2 = round((buy2.count()[0]/cart2.count()[0]*100),2)\n",
    "\n",
    "print('仅加购没有收藏的商品的购买率:',ratio2,'%')"
   ]
  },
  {
   "cell_type": "code",
   "execution_count": 534,
   "metadata": {},
   "outputs": [
    {
     "name": "stdout",
     "output_type": "stream",
     "text": [
      "仅收藏没有加购的商品的购买率: 4.49 %\n"
     ]
    }
   ],
   "source": [
    "# 仅收藏没有加购的商品的购买率\n",
    "cart3 = cart.copy()\n",
    "fav3 = fav.copy()\n",
    "\n",
    "#取补集：仅加购没有收藏的商品\n",
    "fav3 = fav3.append(cart3)\n",
    "fav3 = fav3.append(cart3)\n",
    "fav3 = fav3.drop_duplicates(keep=False) \n",
    "\n",
    "buy3 = pd.merge(left =fav3,right =buy, how ='inner', left_on=['User_ID','Item_ID'],right_on=['User_ID','Item_ID'])\n",
    "ratio3 = round((buy3.count()[0]/fav3.count()[0]*100),2)\n",
    "\n",
    "print('仅收藏没有加购的商品的购买率:',ratio3,'%')"
   ]
  },
  {
   "cell_type": "code",
   "execution_count": null,
   "metadata": {},
   "outputs": [],
   "source": []
  }
 ],
 "metadata": {
  "kernelspec": {
   "display_name": "Python 3",
   "language": "python",
   "name": "python3"
  },
  "language_info": {
   "codemirror_mode": {
    "name": "ipython",
    "version": 3
   },
   "file_extension": ".py",
   "mimetype": "text/x-python",
   "name": "python",
   "nbconvert_exporter": "python",
   "pygments_lexer": "ipython3",
   "version": "3.7.3"
  }
 },
 "nbformat": 4,
 "nbformat_minor": 2
}
